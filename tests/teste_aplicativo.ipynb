{
 "cells": [
  {
   "cell_type": "code",
   "execution_count": 15,
   "id": "705f59dd",
   "metadata": {},
   "outputs": [],
   "source": [
    "# Imports\n",
    "import random\n",
    "import uuid\n",
    "from datetime import datetime\n",
    "import itertools\n",
    "\n",
    "# Classe Nucleo - Armazena e manipula a sequência genética\n",
    "class Nucleus():\n",
    "    \n",
    "    def __init__(self, karyotype = None):\n",
    "        # O cariótipo de um indivíduo vai armazenar 4 pares de cromossomos 2n = 8.\n",
    "        # Cada par é formado por um cromossomo vindo do pai e outro cromossomo vindo da mãe.\n",
    "        # O cariótipo então é o conjunto dos pares. Precisa ter 8 elementos (4 pares de cromossomos).\n",
    "        if karyotype == None:\n",
    "            self.karyotype = []\n",
    "        else:\n",
    "            self.karyotype = karyotype\n",
    "        self.nucleotides = [x for x in range(4)]\n",
    "        \n",
    "    def create_dna(self):\n",
    "        # Método para criar DNA. Deve ser usado somente para a primeira geração de indivíduos.\n",
    "        self.karyotype = [\n",
    "            [x for x in random.choices(self.nucleotides, k=12)]\n",
    "            for i in range(4)\n",
    "        ]\n",
    "    \n",
    "    def __get_chromosome_pair(self, karyotype):\n",
    "        # Método para agrupar os cromossomos homólogos.\n",
    "        # Cromossomos homólogos = mesma posição, mesmo tamanho e com genes em posições correspondentes.\n",
    "        self.chromosome_pairs = list(zip(karyotype[::2],karyotype[1::2]))\n",
    "        return self.chromosome_pairs\n",
    "    \n",
    "    def __crossing_over(self, chromosome_pair, cutting_point):\n",
    "        new_chromosome = [ x for x in chromosome_pair[0][0:cutting_point] + chromosome_pair[1][cutting_point:]]\n",
    "        return new_chromosome\n",
    "    \n",
    "    def do_meiosis(self, cutting_points=None):\n",
    "        # Método para executar a meiose, 1 célula diploide (2n = 8) tem que gerar 4 células haploides (n = 4).\n",
    "        haploids = []\n",
    "        \n",
    "        # Trazendo a lista de cromossomos para a função\n",
    "        pairs = self.__get_chromosome_pair(self.karyotype)\n",
    "              \n",
    "        from_father = []\n",
    "        from_mother = []\n",
    "        mixeds_1 = []\n",
    "        mixeds_2 = []    \n",
    "        \n",
    "        if cutting_points == None:\n",
    "            cutting_points = []\n",
    "            for pair in pairs:\n",
    "                cutting_points.append(random.randrange(len(pair[0])))\n",
    "            \n",
    "        index = 0\n",
    "\n",
    "        \n",
    "        for pair in pairs:\n",
    "            \n",
    "            from_father.append(pair[0])\n",
    "            from_mother.append(pair[1])\n",
    "            \n",
    "            mixed1 = self.__crossing_over(pair, cutting_points[index])\n",
    "            mixeds_1.append(mixed1)\n",
    "            mixed2 = self.__crossing_over(pair[::-1], cutting_points[index])\n",
    "            mixeds_2.append(mixed2)\n",
    "            \n",
    "            index += 1\n",
    "        \n",
    "        haploids.append({\n",
    "            'origin':'father',\n",
    "            'cutting_points':[],\n",
    "            'chromosomes':from_father\n",
    "        })\n",
    "        haploids.append({\n",
    "            'origin':'mother',\n",
    "            'cutting_points':[],\n",
    "            'chromosomes':from_mother\n",
    "        })\n",
    "        \n",
    "        index = 0\n",
    "        \n",
    "        haploids.append({\n",
    "            'origin':'mixed',\n",
    "            'cutting_points':cutting_points, \n",
    "            'chromosomes':mixeds_1\n",
    "        })\n",
    "        \n",
    "        haploids.append({\n",
    "            'origin':'mixed',\n",
    "            'cutting_points':cutting_points, \n",
    "            'chromosomes':mixeds_2\n",
    "        })\n",
    "            \n",
    "        return haploids\n",
    "    \n",
    "    def to_dict(self):\n",
    "        return {\n",
    "            'karyotype':self.karyotype,\n",
    "            'number_of_chromosomes':sum(len(pair['chromosomes']) for pair in self.karyotype),\n",
    "            'mixed_count':sum(1 for pair in self.karyotype if pair['mixed']=='yes')\n",
    "        }\n",
    "    \n",
    "# Criando uma classe que vai gerenciar a população\n",
    "class PopulationManager():\n",
    "    \n",
    "    # Armazenando o contador e os IDs de todos os integrantes da população\n",
    "    def __init__(self):\n",
    "        self.population_counter = 0\n",
    "        self.population = []\n",
    "        \n",
    "    # Método fertilization() que pede dois objetos Nucleus() e cria um indivíduo.\n",
    "    def fertilization(self, father, mother):\n",
    "        \n",
    "        generation = 0\n",
    "        \n",
    "        generation_father = father['generation']\n",
    "        generation_mother = mother['generation']\n",
    "        \n",
    "        generation = max(generation_father,generation_mother) + 1\n",
    "        \n",
    "        # Cria núcleos a partir de objetos\n",
    "        nucleus_father = Nucleus(karyotype=father['karyotype'])\n",
    "        nucleus_mother = Nucleus(karyotype=mother['karyotype'])\n",
    "        \n",
    "        # Executa a meiose dos dois objetos e armazena nas variáveis\n",
    "        fat_gametes = nucleus_father.do_meiosis()\n",
    "        mot_gametes = nucleus_mother.do_meiosis()\n",
    "\n",
    "        # Escolhe um par de cromossomos por conjunto de gametas para formar um indivíduo\n",
    "        fat_gamete = random.choice(fat_gametes)\n",
    "        mot_gamete = random.choice(mot_gametes)\n",
    "\n",
    "        # Cria o cariótipo do indivíduo novo\n",
    "        #karyotype = list(zip(fat_gamete['chromosomes'],mot_gamete['chromosomes']))\n",
    "        index = 0\n",
    "        karyotype = []\n",
    "        for i in fat_gamete['chromosomes']:\n",
    "            karyotype.append(fat_gamete['chromosomes'][index])\n",
    "            karyotype.append(mot_gamete['chromosomes'][index])\n",
    "            index += 1\n",
    "        \n",
    "        # Retorna um dicionário com as informações do novo indivíduo\n",
    "        new_individual = {\n",
    "            'indv_id':str(uuid.uuid4()), \n",
    "            'father_id':father['indv_id'],\n",
    "            'mother_id':mother['indv_id'],\n",
    "            'generation':generation,\n",
    "            'karyotype':karyotype,\n",
    "            'chromosome_origin':{'father_gamete':fat_gamete['origin'],'mother_gamete':mot_gamete['origin']},\n",
    "            'timestamp':datetime.now().isoformat(),\n",
    "            'metadados':{\n",
    "                'cutting_points':{\n",
    "            'father': fat_gamete['cutting_points'],\n",
    "            'mother': mot_gamete['cutting_points']\n",
    "        },\n",
    "                'method':'meiosis'\n",
    "            }\n",
    "        }\n",
    "\n",
    "        self.population_counter += 1\n",
    "        self.population.append(new_individual)\n",
    "        \n",
    "        return new_individual\n",
    "        \n",
    "        \n",
    "    # Método para criar indivíduos que não vão ter pais\n",
    "    def create_individual(self):\n",
    "        \n",
    "        # Criando uma instância da classe Nucleus()\n",
    "        nucleus = Nucleus()\n",
    "        nucleus.create_dna()\n",
    "        \n",
    "        # Geração 0\n",
    "        generation = 0\n",
    "        \n",
    "        # Cria o dicionário do novo indivíduo\n",
    "        new_individual = {\n",
    "            'indv_id':str(uuid.uuid4()), \n",
    "            'father_id':None,\n",
    "            'mother_id':None,\n",
    "            'generation':generation,\n",
    "            'karyotype':nucleus.karyotype,\n",
    "            'chromosome_origin':None,\n",
    "            'timestamp':datetime.now().isoformat(),\n",
    "            'metadados':{\n",
    "                'cutting_points':None,\n",
    "                'method':'create_dna'\n",
    "            }\n",
    "        }\n",
    "        \n",
    "        self.population_counter += 1\n",
    "        self.population.append(new_individual)\n",
    "        \n",
    "        return new_individual\n",
    "    \n",
    "# Classe indivíduo, que vai receber o DNA e exibir as características de acordo com os genes gerados.\n",
    "class GeneReader():\n",
    "    \n",
    "    def __init__(self, individual_dictionary):\n",
    "        self.karyotype = individual_dictionary['karyotype']\n",
    "        self.color = None\n",
    "        self.swimming_speed = 0\n",
    "        self.gender = None\n",
    "        \n",
    "    \n",
    "    def get_codons(self):\n",
    "        codon_list = []\n",
    "        for chromo in self.karyotype:\n",
    "            new_list = []\n",
    "            for i in range(0, len(chromo), 3):\n",
    "                codon = chromo[i:i+3]\n",
    "                if len(codon) == 3:\n",
    "                    new_list.append(tuple(chromo[i:i+3]))\n",
    "            codon_list.append(new_list)\n",
    "        return codon_list\n",
    "\n",
    "    def get_aminoacids(self, codon_list):\n",
    "        aminoacids = []\n",
    "\n",
    "        for chromo in codon_list:\n",
    "            amino = []\n",
    "            for codon in chromo:\n",
    "                amino.append(inverted_aminoacid_table.get(codon, 'unknown'))\n",
    "            aminoacids.append(amino)\n",
    "\n",
    "        return aminoacids\n",
    "    \n",
    "    # Agora consigo analisar cada par de cromossomos.\n",
    "    def get_color(self, aminoacids):\n",
    "        \n",
    "    # Vou definir arbitrariamente que o primeiro par define a cor.\n",
    "    # A cor geralmente é definida pela quantidade de melanina, que é sintetizada pela tirosina (tyrosine)\n",
    "        color_chromosomes = aminoacids[0] + aminoacids[1]\n",
    "        color_gene = {x: color_chromosomes.count(x) for x in set(color_chromosomes)}\n",
    "        self.color = hex(color_gene['tyrosine']*1000)\n",
    "        \n",
    "        return self.color\n",
    "    \n",
    "    def get_swimming_speed(self, aminoacids):\n",
    "    # Definindo arbitrariamente que a velocidade de nado está associada com o segundo par de cromossomos.\n",
    "        swim_chromosomes = aminoacids[2] + aminoacids[3]\n",
    "        swim_gene = {x: swim_chromosomes.count(x) for x in set(swim_chromosomes)}\n",
    "        self.swimming_speed = (swim_gene['arginine'] * 5) - swim_gene['stop']\n",
    "    \n",
    "        return self.swimming_speed\n",
    "\n",
    "# 3 Nucleotídeos == 1 Códon. \n",
    "# 1 códon gera aminoácidos. \n",
    "# Aminoácidos unidos geram proteínas. \n",
    "# Proteínas definem as características do ser.\n",
    "\n",
    "# Criando uma tabela com as possíveis combinações de nucleotídeos que vão gerar códons diferentes.\n",
    "codon_table = [x for x in itertools.product([0,1,2,3],repeat=3)]\n",
    "\n",
    "# Tabela de códons RNA.\n",
    "# 0 = Adenosina\n",
    "# 1 = Guanina\n",
    "# 2 = Citosina\n",
    "# 3 = Timina\n",
    "\n",
    "aminoacid_table = {\n",
    "    'alanine':[(1,2,3),(1,2,2),(1,2,0),(1,2,1)],\n",
    "    'arginine':[(2,1,3),(2,1,2),(2,1,0),(2,1,1),(0,1,0),(0,1,1)],\n",
    "    'asparagine':[(0,0,3),(0,0,2)],\n",
    "    'aspartic_acid':[(1,0,3),(1,0,2)],\n",
    "    'cysteine':[(3,1,3),(3,1,2)],\n",
    "    'glutamine':[(2,0,0),(2,0,1)],\n",
    "    'glutamic_acid':[(1,0,0),(1,0,1)],\n",
    "    'glycine':[(1,1,3),(1,1,2),(1,1,0),(1,1,1)],\n",
    "    'histidine':[(2,0,3),(2,0,2)],\n",
    "    'start':[(0,3,1),(2,3,1),(3,3,1)],\n",
    "    'isoleucine':[(0,3,3),(0,3,2),(0,3,0)],\n",
    "    'leucine':[(2,3,3),(2,3,2),(2,3,0),(2,3,1),(3,3,0),(3,3,1)],\n",
    "    'lysine':[(0,0,0),(0,0,1)],\n",
    "    'phenylalanine':[(3,3,3),(3,3,2)],\n",
    "    'proline':[(2,2,3),(2,2,2),(2,2,0),(2,2,1)],\n",
    "    'serine':[(3,2,3),(3,2,2),(3,2,0),(3,2,1),(0,1,3),(0,1,2)],\n",
    "    'threonine':[(0,2,3),(0,2,2),(0,2,0),(0,2,1)],\n",
    "    'tryptophan':[(3,1,1)],\n",
    "    'tyrosine':[(3,0,3),(3,0,2)],\n",
    "    'valine':[(1,3,3),(1,3,2),(1,3,0),(1,3,1)],\n",
    "    'stop':[(3,0,0),(3,1,0),(3,0,1)]\n",
    "}\n",
    "\n",
    "inverted_aminoacid_table = {}\n",
    "\n",
    "for key in aminoacid_table.keys():\n",
    "    for codon in aminoacid_table[key]:\n",
    "        inverted_aminoacid_table.update({codon:key})"
   ]
  },
  {
   "cell_type": "code",
   "execution_count": 16,
   "id": "80115ef5",
   "metadata": {},
   "outputs": [],
   "source": [
    "eden = PopulationManager()"
   ]
  },
  {
   "cell_type": "code",
   "execution_count": 17,
   "id": "8307982a",
   "metadata": {},
   "outputs": [],
   "source": [
    "adam = eden.create_individual()"
   ]
  },
  {
   "cell_type": "code",
   "execution_count": 18,
   "id": "0b73959f",
   "metadata": {},
   "outputs": [],
   "source": [
    "eve = eden.create_individual()"
   ]
  },
  {
   "cell_type": "code",
   "execution_count": 19,
   "id": "64b634f0",
   "metadata": {
    "scrolled": true
   },
   "outputs": [
    {
     "data": {
      "text/plain": [
       "{'indv_id': 'ccdefa55-d01c-429c-aad7-17c69cf5acf1',\n",
       " 'father_id': None,\n",
       " 'mother_id': None,\n",
       " 'generation': 0,\n",
       " 'karyotype': [[3, 3, 0, 0, 2, 0, 0, 0, 3, 3, 3, 1],\n",
       "  [0, 0, 0, 1, 1, 0, 1, 1, 3, 3, 0, 3],\n",
       "  [0, 1, 0, 2, 2, 0, 3, 0, 1, 0, 1, 0],\n",
       "  [2, 1, 1, 1, 3, 1, 2, 2, 0, 1, 0, 3]],\n",
       " 'chromosome_origin': None,\n",
       " 'timestamp': '2025-06-23T18:46:53.689878',\n",
       " 'metadados': {'cutting_points': None, 'method': 'create_dna'}}"
      ]
     },
     "execution_count": 19,
     "metadata": {},
     "output_type": "execute_result"
    }
   ],
   "source": [
    "adam"
   ]
  },
  {
   "cell_type": "code",
   "execution_count": 20,
   "id": "148717a8",
   "metadata": {},
   "outputs": [
    {
     "data": {
      "text/plain": [
       "{'indv_id': 'd8071835-8bb9-4634-866b-3aa199ee8b8a',\n",
       " 'father_id': None,\n",
       " 'mother_id': None,\n",
       " 'generation': 0,\n",
       " 'karyotype': [[1, 3, 2, 3, 1, 2, 3, 2, 1, 2, 3, 2],\n",
       "  [3, 3, 1, 2, 2, 3, 0, 2, 1, 0, 1, 0],\n",
       "  [3, 3, 1, 3, 1, 1, 2, 3, 0, 3, 1, 0],\n",
       "  [1, 0, 1, 1, 1, 0, 2, 0, 1, 0, 1, 3]],\n",
       " 'chromosome_origin': None,\n",
       " 'timestamp': '2025-06-23T18:46:54.739405',\n",
       " 'metadados': {'cutting_points': None, 'method': 'create_dna'}}"
      ]
     },
     "execution_count": 20,
     "metadata": {},
     "output_type": "execute_result"
    }
   ],
   "source": [
    "eve"
   ]
  },
  {
   "cell_type": "code",
   "execution_count": 21,
   "id": "5244333f",
   "metadata": {},
   "outputs": [],
   "source": [
    "nucleo = Nucleus()"
   ]
  },
  {
   "cell_type": "code",
   "execution_count": 22,
   "id": "15b55ff6",
   "metadata": {},
   "outputs": [],
   "source": [
    "nucleo.karyotype = adam['karyotype']"
   ]
  },
  {
   "cell_type": "code",
   "execution_count": 23,
   "id": "84d6d00f",
   "metadata": {},
   "outputs": [
    {
     "data": {
      "text/plain": [
       "[{'origin': 'father',\n",
       "  'cutting_points': [],\n",
       "  'chromosomes': [[3, 3, 0, 0, 2, 0, 0, 0, 3, 3, 3, 1],\n",
       "   [0, 1, 0, 2, 2, 0, 3, 0, 1, 0, 1, 0]]},\n",
       " {'origin': 'mother',\n",
       "  'cutting_points': [],\n",
       "  'chromosomes': [[0, 0, 0, 1, 1, 0, 1, 1, 3, 3, 0, 3],\n",
       "   [2, 1, 1, 1, 3, 1, 2, 2, 0, 1, 0, 3]]},\n",
       " {'origin': 'mixed',\n",
       "  'cutting_points': [2, 9],\n",
       "  'chromosomes': [[3, 3, 0, 1, 1, 0, 1, 1, 3, 3, 0, 3],\n",
       "   [0, 1, 0, 2, 2, 0, 3, 0, 1, 1, 0, 3]]},\n",
       " {'origin': 'mixed',\n",
       "  'cutting_points': [2, 9],\n",
       "  'chromosomes': [[0, 0, 0, 0, 2, 0, 0, 0, 3, 3, 3, 1],\n",
       "   [2, 1, 1, 1, 3, 1, 2, 2, 0, 0, 1, 0]]}]"
      ]
     },
     "execution_count": 23,
     "metadata": {},
     "output_type": "execute_result"
    }
   ],
   "source": [
    "nucleo.do_meiosis()"
   ]
  },
  {
   "cell_type": "code",
   "execution_count": 24,
   "id": "17f2a05d",
   "metadata": {},
   "outputs": [],
   "source": [
    "nucleo2 = Nucleus()"
   ]
  },
  {
   "cell_type": "code",
   "execution_count": 25,
   "id": "0d6a9cae",
   "metadata": {},
   "outputs": [],
   "source": [
    "nucleo2.karyotype = eve['karyotype']"
   ]
  },
  {
   "cell_type": "code",
   "execution_count": 26,
   "id": "71cc08e3",
   "metadata": {},
   "outputs": [
    {
     "data": {
      "text/plain": [
       "[[1, 3, 2, 3, 1, 2, 3, 2, 1, 2, 3, 2],\n",
       " [3, 3, 1, 2, 2, 3, 0, 2, 1, 0, 1, 0],\n",
       " [3, 3, 1, 3, 1, 1, 2, 3, 0, 3, 1, 0],\n",
       " [1, 0, 1, 1, 1, 0, 2, 0, 1, 0, 1, 3]]"
      ]
     },
     "execution_count": 26,
     "metadata": {},
     "output_type": "execute_result"
    }
   ],
   "source": [
    "nucleo2.karyotype"
   ]
  },
  {
   "cell_type": "code",
   "execution_count": 27,
   "id": "f66f69fa",
   "metadata": {},
   "outputs": [
    {
     "data": {
      "text/plain": [
       "[{'origin': 'father',\n",
       "  'cutting_points': [],\n",
       "  'chromosomes': [[1, 3, 2, 3, 1, 2, 3, 2, 1, 2, 3, 2],\n",
       "   [3, 3, 1, 3, 1, 1, 2, 3, 0, 3, 1, 0]]},\n",
       " {'origin': 'mother',\n",
       "  'cutting_points': [],\n",
       "  'chromosomes': [[3, 3, 1, 2, 2, 3, 0, 2, 1, 0, 1, 0],\n",
       "   [1, 0, 1, 1, 1, 0, 2, 0, 1, 0, 1, 3]]},\n",
       " {'origin': 'mixed',\n",
       "  'cutting_points': [1, 8],\n",
       "  'chromosomes': [[1, 3, 1, 2, 2, 3, 0, 2, 1, 0, 1, 0],\n",
       "   [3, 3, 1, 3, 1, 1, 2, 3, 1, 0, 1, 3]]},\n",
       " {'origin': 'mixed',\n",
       "  'cutting_points': [1, 8],\n",
       "  'chromosomes': [[3, 3, 2, 3, 1, 2, 3, 2, 1, 2, 3, 2],\n",
       "   [1, 0, 1, 1, 1, 0, 2, 0, 0, 3, 1, 0]]}]"
      ]
     },
     "execution_count": 27,
     "metadata": {},
     "output_type": "execute_result"
    }
   ],
   "source": [
    "nucleo2.do_meiosis()"
   ]
  },
  {
   "cell_type": "code",
   "execution_count": 28,
   "id": "4487e33f",
   "metadata": {
    "scrolled": true
   },
   "outputs": [],
   "source": [
    "caim = eden.fertilization(adam,eve)"
   ]
  },
  {
   "cell_type": "code",
   "execution_count": 29,
   "id": "4c42edb4",
   "metadata": {
    "scrolled": true
   },
   "outputs": [
    {
     "data": {
      "text/plain": [
       "{'indv_id': 'f9f886a8-3e90-43f3-8035-faae0cf35f25',\n",
       " 'father_id': 'ccdefa55-d01c-429c-aad7-17c69cf5acf1',\n",
       " 'mother_id': 'd8071835-8bb9-4634-866b-3aa199ee8b8a',\n",
       " 'generation': 1,\n",
       " 'karyotype': [[3, 3, 0, 0, 2, 0, 0, 0, 3, 3, 3, 1],\n",
       "  [3, 3, 2, 3, 1, 2, 3, 2, 1, 2, 3, 2],\n",
       "  [0, 1, 0, 2, 2, 0, 3, 0, 1, 0, 1, 0],\n",
       "  [1, 0, 1, 3, 1, 1, 2, 3, 0, 3, 1, 0]],\n",
       " 'chromosome_origin': {'father_gamete': 'father', 'mother_gamete': 'mixed'},\n",
       " 'timestamp': '2025-06-23T18:46:58.937088',\n",
       " 'metadados': {'cutting_points': {'father': [], 'mother': [2, 3]},\n",
       "  'method': 'meiosis'}}"
      ]
     },
     "execution_count": 29,
     "metadata": {},
     "output_type": "execute_result"
    }
   ],
   "source": [
    "caim"
   ]
  },
  {
   "cell_type": "code",
   "execution_count": 30,
   "id": "897fe6ef",
   "metadata": {},
   "outputs": [],
   "source": [
    "lab = GeneReader(caim)"
   ]
  },
  {
   "cell_type": "code",
   "execution_count": 31,
   "id": "9dc1f154",
   "metadata": {},
   "outputs": [
    {
     "data": {
      "text/plain": [
       "[[(3, 3, 0), (0, 2, 0), (0, 0, 3), (3, 3, 1)],\n",
       " [(3, 3, 2), (3, 1, 2), (3, 2, 1), (2, 3, 2)],\n",
       " [(0, 1, 0), (2, 2, 0), (3, 0, 1), (0, 1, 0)],\n",
       " [(1, 0, 1), (3, 1, 1), (2, 3, 0), (3, 1, 0)]]"
      ]
     },
     "execution_count": 31,
     "metadata": {},
     "output_type": "execute_result"
    }
   ],
   "source": [
    "lab.get_codons()"
   ]
  },
  {
   "cell_type": "code",
   "execution_count": 32,
   "id": "5ff6ba76",
   "metadata": {},
   "outputs": [],
   "source": [
    "teste = [[(1, 1, 0), (3, 0, 3), (1, 1, 2), (3, 1, 2)],\n",
    " [(3, 2, 0), (3, 2, 2), (3, 3, 1), (0, 3, 2)],\n",
    " [(1, 1, 2), (0, 2, 3), (0, 0, 3), (1, 1, 2)],\n",
    " [(0, 2, 3), (3, 0, 2), (3, 2, 1), (1, 2, 1)]]"
   ]
  },
  {
   "cell_type": "code",
   "execution_count": 33,
   "id": "934d1d83",
   "metadata": {},
   "outputs": [
    {
     "data": {
      "text/plain": [
       "[['glycine', 'tyrosine', 'glycine', 'cysteine'],\n",
       " ['serine', 'serine', 'leucine', 'isoleucine'],\n",
       " ['glycine', 'threonine', 'asparagine', 'glycine'],\n",
       " ['threonine', 'tyrosine', 'serine', 'alanine']]"
      ]
     },
     "execution_count": 33,
     "metadata": {},
     "output_type": "execute_result"
    }
   ],
   "source": [
    "# Definir aminoácidos\n",
    "# Agrupar de dois em dois\n",
    "\n",
    "aminoacids = []\n",
    "\n",
    "for chromo in teste:\n",
    "    amino = []\n",
    "    for codon in chromo:\n",
    "        amino.append(inverted_aminoacid_table[codon])\n",
    "    aminoacids.append(amino)\n",
    "\n",
    "aminoacids"
   ]
  },
  {
   "cell_type": "code",
   "execution_count": 34,
   "id": "ac62b529",
   "metadata": {},
   "outputs": [],
   "source": [
    "opa = [['glycine', 'tyrosine', 'glycine', 'cysteine'],\n",
    " ['serine', 'serine', 'leucine', 'isoleucine'],\n",
    " ['glycine', 'threonine', 'asparagine', 'glycine'],\n",
    " ['threonine', 'tyrosine', 'serine', 'alanine']]"
   ]
  },
  {
   "cell_type": "code",
   "execution_count": 35,
   "id": "4b740503",
   "metadata": {},
   "outputs": [],
   "source": [
    "opa2 = opa[0] + opa[1]\n",
    "color_gene = {x: opa2.count(x) for x in set(opa2)}"
   ]
  },
  {
   "cell_type": "code",
   "execution_count": 36,
   "id": "04d4aa3a",
   "metadata": {},
   "outputs": [
    {
     "data": {
      "text/plain": [
       "{'tyrosine': 1,\n",
       " 'cysteine': 1,\n",
       " 'leucine': 1,\n",
       " 'isoleucine': 1,\n",
       " 'glycine': 2,\n",
       " 'serine': 2}"
      ]
     },
     "execution_count": 36,
     "metadata": {},
     "output_type": "execute_result"
    }
   ],
   "source": [
    "color_gene"
   ]
  },
  {
   "cell_type": "code",
   "execution_count": 37,
   "id": "6c2f1dad",
   "metadata": {},
   "outputs": [
    {
     "data": {
      "text/plain": [
       "{'indv_id': 'f9f886a8-3e90-43f3-8035-faae0cf35f25',\n",
       " 'father_id': 'ccdefa55-d01c-429c-aad7-17c69cf5acf1',\n",
       " 'mother_id': 'd8071835-8bb9-4634-866b-3aa199ee8b8a',\n",
       " 'generation': 1,\n",
       " 'karyotype': [[3, 3, 0, 0, 2, 0, 0, 0, 3, 3, 3, 1],\n",
       "  [3, 3, 2, 3, 1, 2, 3, 2, 1, 2, 3, 2],\n",
       "  [0, 1, 0, 2, 2, 0, 3, 0, 1, 0, 1, 0],\n",
       "  [1, 0, 1, 3, 1, 1, 2, 3, 0, 3, 1, 0]],\n",
       " 'chromosome_origin': {'father_gamete': 'father', 'mother_gamete': 'mixed'},\n",
       " 'timestamp': '2025-06-23T18:46:58.937088',\n",
       " 'metadados': {'cutting_points': {'father': [], 'mother': [2, 3]},\n",
       "  'method': 'meiosis'}}"
      ]
     },
     "execution_count": 37,
     "metadata": {},
     "output_type": "execute_result"
    }
   ],
   "source": [
    "caim"
   ]
  },
  {
   "cell_type": "code",
   "execution_count": 39,
   "id": "62b7704d",
   "metadata": {},
   "outputs": [
    {
     "data": {
      "text/plain": [
       "{'father': [], 'mother': [2, 3]}"
      ]
     },
     "execution_count": 39,
     "metadata": {},
     "output_type": "execute_result"
    }
   ],
   "source": [
    "caim['metadados']['cutting_points']"
   ]
  },
  {
   "cell_type": "code",
   "execution_count": null,
   "id": "ad5cd5c1",
   "metadata": {},
   "outputs": [],
   "source": []
  }
 ],
 "metadata": {
  "kernelspec": {
   "display_name": "Python 3 (ipykernel)",
   "language": "python",
   "name": "python3"
  },
  "language_info": {
   "codemirror_mode": {
    "name": "ipython",
    "version": 3
   },
   "file_extension": ".py",
   "mimetype": "text/x-python",
   "name": "python",
   "nbconvert_exporter": "python",
   "pygments_lexer": "ipython3",
   "version": "3.9.13"
  }
 },
 "nbformat": 4,
 "nbformat_minor": 5
}
